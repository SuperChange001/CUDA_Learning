{
  "nbformat": 4,
  "nbformat_minor": 0,
  "metadata": {
    "colab": {
      "name": "Exercise_06.ipynb",
      "provenance": [],
      "collapsed_sections": []
    },
    "kernelspec": {
      "name": "python3",
      "display_name": "Python 3"
    },
    "language_info": {
      "name": "python"
    },
    "accelerator": "GPU"
  },
  "cells": [
    {
      "cell_type": "markdown",
      "metadata": {
        "id": "gZABpep_V-8C"
      },
      "source": [
        "# CUDA Exercise 06\n",
        "> Another approach of parallelized Vector add. \n",
        "\n",
        "This Jupyter Notebook can also be open by the google colab, so you don't have to buy a PC with a graphic card to play with CUDA. To launch the Google Colab, please click the below Icon.\n",
        "\n",
        "[![Open In Colab](https://colab.research.google.com/assets/colab-badge.svg#left)](https://colab.research.google.com/github/SuperChange001/CUDA_Learning/blob/main/Solution/Exercise_06.ipynb)"
      ]
    },
    {
      "cell_type": "markdown",
      "metadata": {
        "id": "P401L2N_WG6R"
      },
      "source": [
        "## Initialize the CUDA dev environment"
      ]
    },
    {
      "cell_type": "code",
      "metadata": {
        "colab": {
          "base_uri": "https://localhost:8080/"
        },
        "id": "OONoNFZeV63L",
        "outputId": "7ea7eb64-bce9-4b3e-fb37-26c22c542977"
      },
      "source": [
        "# clone the code repo,\n",
        "!pip install git+git://github.com/depctg/nvcc4jupyter.git\n",
        "%load_ext nvcc_plugin\n",
        "\n",
        "# Check the environment \n",
        "!lsb_release -a\n",
        "!nvcc --version\n",
        "!nvidia-smi"
      ],
      "execution_count": 1,
      "outputs": [
        {
          "output_type": "stream",
          "text": [
            "Collecting git+git://github.com/depctg/nvcc4jupyter.git\n",
            "  Cloning git://github.com/depctg/nvcc4jupyter.git to /tmp/pip-req-build-0h_on20m\n",
            "  Running command git clone -q git://github.com/depctg/nvcc4jupyter.git /tmp/pip-req-build-0h_on20m\n",
            "Building wheels for collected packages: NVCCPlugin\n",
            "  Building wheel for NVCCPlugin (setup.py) ... \u001b[?25l\u001b[?25hdone\n",
            "  Created wheel for NVCCPlugin: filename=NVCCPlugin-0.0.2-cp37-none-any.whl size=4334 sha256=c3bbe482d2b7bd608c155ee0855393664aee1a212eb71f17e7c1d5c7be4d469c\n",
            "  Stored in directory: /tmp/pip-ephem-wheel-cache-s37pn594/wheels/1e/43/2d/099cad2b9b02dfa88573f50a22735d8a0b2ba69bf82167b81c\n",
            "Successfully built NVCCPlugin\n",
            "Installing collected packages: NVCCPlugin\n",
            "Successfully installed NVCCPlugin-0.0.2\n",
            "Default out bin result.out\n",
            "No LSB modules are available.\n",
            "Distributor ID:\tUbuntu\n",
            "Description:\tUbuntu 18.04.5 LTS\n",
            "Release:\t18.04\n",
            "Codename:\tbionic\n",
            "nvcc: NVIDIA (R) Cuda compiler driver\n",
            "Copyright (c) 2005-2020 NVIDIA Corporation\n",
            "Built on Wed_Jul_22_19:09:09_PDT_2020\n",
            "Cuda compilation tools, release 11.0, V11.0.221\n",
            "Build cuda_11.0_bu.TC445_37.28845127_0\n",
            "Thu Apr 22 21:38:17 2021       \n",
            "+-----------------------------------------------------------------------------+\n",
            "| NVIDIA-SMI 465.19.01    Driver Version: 460.32.03    CUDA Version: 11.2     |\n",
            "|-------------------------------+----------------------+----------------------+\n",
            "| GPU  Name        Persistence-M| Bus-Id        Disp.A | Volatile Uncorr. ECC |\n",
            "| Fan  Temp  Perf  Pwr:Usage/Cap|         Memory-Usage | GPU-Util  Compute M. |\n",
            "|                               |                      |               MIG M. |\n",
            "|===============================+======================+======================|\n",
            "|   0  Tesla T4            Off  | 00000000:00:04.0 Off |                    0 |\n",
            "| N/A   64C    P8    11W /  70W |      0MiB / 15109MiB |      0%      Default |\n",
            "|                               |                      |                  N/A |\n",
            "+-------------------------------+----------------------+----------------------+\n",
            "                                                                               \n",
            "+-----------------------------------------------------------------------------+\n",
            "| Processes:                                                                  |\n",
            "|  GPU   GI   CI        PID   Type   Process name                  GPU Memory |\n",
            "|        ID   ID                                                   Usage      |\n",
            "|=============================================================================|\n",
            "|  No running processes found                                                 |\n",
            "+-----------------------------------------------------------------------------+\n"
          ],
          "name": "stdout"
        }
      ]
    },
    {
      "cell_type": "markdown",
      "metadata": {
        "id": "Bxx_JzKwgnh1"
      },
      "source": [
        "## Vector Add with Multiple Threads across Blocks"
      ]
    },
    {
      "cell_type": "code",
      "metadata": {
        "colab": {
          "base_uri": "https://localhost:8080/"
        },
        "id": "egrZEZ3MWaP_",
        "outputId": "c9574221-69cc-4343-bfa6-44db49fdadc5"
      },
      "source": [
        "%%writefile verctor_add_multi_blocks_thread.cu\n",
        "\n",
        "#include <stdio.h>\n",
        "#include <assert.h>\n",
        "\n",
        "#define VECTOR_LENGTH 10000\n",
        "#define MAX_ERR 1e-4\n",
        "\n",
        "__global__ void vector_add(float *out, float *a, float *b, int n) \n",
        "{\n",
        "    int tid = blockIdx.x * blockDim.x + threadIdx.x;\n",
        " \n",
        "    if(tid<n)\n",
        "    {\n",
        "        out[tid] = a[tid] + b[tid];\n",
        "    }\n",
        "}\n",
        "\n",
        "int main(int argc, char *argv[])\n",
        "{\n",
        "  float *a, *b, *out;\n",
        "  float *d_a, *d_b, *d_out;\n",
        "  int list_of_test_block_size[]={1,64,128,256,512,1024};\n",
        "  int block_size = 1;\n",
        "\n",
        "  if( argc == 2 ) {\n",
        "    //printf(\"The argument supplied is %s\\n\", argv[1]);\n",
        "    int arg1 = atoi(argv[1]);  //argv[0] is the program name\n",
        "                              //atoi = ascii to int\n",
        "                    \n",
        "    block_size = list_of_test_block_size[arg1];\n",
        "  }\n",
        "  else if( argc > 2 ) {\n",
        "    printf(\"Too many arguments supplied.\\n\");\n",
        "  }\n",
        "  else {\n",
        "    printf(\"One argument expected.\\n\");\n",
        "    \n",
        "  }\n",
        "\n",
        "  printf(\"The Block size is %d.\\n\", block_size);\n",
        "\n",
        "\n",
        "  // Allocate memory on CPU\n",
        "  a = (float*)malloc(sizeof(float) * VECTOR_LENGTH);\n",
        "  b = (float*)malloc(sizeof(float) * VECTOR_LENGTH);\n",
        "  out = (float*)malloc(sizeof(float) * VECTOR_LENGTH);\n",
        "\n",
        "  // data initializtion\n",
        "  for(int i = 0; i < VECTOR_LENGTH; i++)\n",
        "  {\n",
        "      a[i] = 3.0f;\n",
        "      b[i] = 0.14f;\n",
        "  }\n",
        "\n",
        "  // Allocate memory on GPU\n",
        "  cudaMalloc((void**)&d_a, sizeof(float) * VECTOR_LENGTH);\n",
        "  cudaMalloc((void**)&d_b, sizeof(float) * VECTOR_LENGTH);\n",
        "  cudaMalloc((void**)&d_out, sizeof(float) * VECTOR_LENGTH);\n",
        "\n",
        "  // copy operator to GPU\n",
        "  cudaMemcpy(d_a, a, sizeof(float) * VECTOR_LENGTH, cudaMemcpyHostToDevice);\n",
        "  cudaMemcpy(d_b, b, sizeof(float) * VECTOR_LENGTH, cudaMemcpyHostToDevice);\n",
        "\n",
        "  for(int i=0;i<100;i++)\n",
        "  {\n",
        "    // GPU do the work, CPU waits\n",
        "    // Executing kernel \n",
        "    int grid_size = ((VECTOR_LENGTH + block_size) / block_size);\n",
        "    vector_add<<<grid_size,block_size>>>(d_out, d_a, d_b, VECTOR_LENGTH);\n",
        "  }\n",
        "  // Get results from the GPU\n",
        "  cudaMemcpy(out, d_out, sizeof(float) * VECTOR_LENGTH, \n",
        "              cudaMemcpyDeviceToHost);\n",
        "\n",
        "  // Test the result\n",
        "  for(int i = 0; i < VECTOR_LENGTH; i++){\n",
        "      assert(fabs(out[i] - a[i] - b[i]) < MAX_ERR);\n",
        "  }\n",
        "  printf(\"out[0] = %f\\n\", out[0]);\n",
        "  printf(\"PASSED\\n\");\n",
        "\n",
        "  // Free the memory\n",
        "  cudaFree(d_a);\n",
        "  cudaFree(d_b);\n",
        "  cudaFree(d_out);\n",
        "  free(a);\n",
        "  free(b);\n",
        "  free(out);\n",
        "  }"
      ],
      "execution_count": 2,
      "outputs": [
        {
          "output_type": "stream",
          "text": [
            "Writing verctor_add_multi_blocks_thread.cu\n"
          ],
          "name": "stdout"
        }
      ]
    },
    {
      "cell_type": "markdown",
      "metadata": {
        "id": "d9Zw1YvsewRK"
      },
      "source": [
        "## Evaluation"
      ]
    },
    {
      "cell_type": "markdown",
      "metadata": {
        "id": "ch5mhas6fIZd"
      },
      "source": [
        "Measuring the time cost of executing the CUDA fucntion"
      ]
    },
    {
      "cell_type": "code",
      "metadata": {
        "colab": {
          "base_uri": "https://localhost:8080/"
        },
        "id": "0wc1X6ZCFAVo",
        "outputId": "be4bb169-e77b-4060-daa1-588a5d832419"
      },
      "source": [
        "!nvcc -o verctor_add_multi_blocks_thread verctor_add_multi_blocks_thread.cu\n",
        "!nvprof ./verctor_add_multi_blocks_thread 0\n",
        "!nvprof ./verctor_add_multi_blocks_thread 1\n",
        "!nvprof ./verctor_add_multi_blocks_thread 2\n",
        "!nvprof ./verctor_add_multi_blocks_thread 3"
      ],
      "execution_count": 3,
      "outputs": [
        {
          "output_type": "stream",
          "text": [
            "The Block size is 1.\n",
            "==165== NVPROF is profiling process 165, command: ./verctor_add_multi_blocks_thread 0\n",
            "out[0] = 3.140000\n",
            "PASSED\n",
            "==165== Profiling application: ./verctor_add_multi_blocks_thread 0\n",
            "==165== Profiling result:\n",
            "            Type  Time(%)      Time     Calls       Avg       Min       Max  Name\n",
            " GPU activities:   99.53%  3.0884ms       100  30.884us  30.785us  31.265us  vector_add(float*, float*, float*, int)\n",
            "                    0.31%  9.5690us         2  4.7840us  4.6400us  4.9290us  [CUDA memcpy HtoD]\n",
            "                    0.16%  5.1200us         1  5.1200us  5.1200us  5.1200us  [CUDA memcpy DtoH]\n",
            "      API calls:   98.68%  329.13ms         3  109.71ms  3.1850us  329.12ms  cudaMalloc\n",
            "                    0.86%  2.8551ms         3  951.69us  25.687us  2.7982ms  cudaMemcpy\n",
            "                    0.14%  471.47us       100  4.7140us  3.2380us  32.273us  cudaLaunchKernel\n",
            "                    0.12%  398.11us         1  398.11us  398.11us  398.11us  cuDeviceGetPCIBusId\n",
            "                    0.11%  352.50us         1  352.50us  352.50us  352.50us  cuDeviceTotalMem\n",
            "                    0.04%  148.32us       101  1.4680us     137ns  63.197us  cuDeviceGetAttribute\n",
            "                    0.04%  125.70us         3  41.900us  4.3440us  110.18us  cudaFree\n",
            "                    0.01%  48.719us         1  48.719us  48.719us  48.719us  cuDeviceGetName\n",
            "                    0.00%  1.6970us         3     565ns     234ns  1.0660us  cuDeviceGetCount\n",
            "                    0.00%  1.4190us         2     709ns     236ns  1.1830us  cuDeviceGet\n",
            "                    0.00%     304ns         1     304ns     304ns     304ns  cuDeviceGetUuid\n",
            "The Block size is 64.\n",
            "==176== NVPROF is profiling process 176, command: ./verctor_add_multi_blocks_thread 1\n",
            "out[0] = 3.140000\n",
            "PASSED\n",
            "==176== Profiling application: ./verctor_add_multi_blocks_thread 1\n",
            "==176== Profiling result:\n",
            "            Type  Time(%)      Time     Calls       Avg       Min       Max  Name\n",
            " GPU activities:   94.94%  273.86us       100  2.7380us  2.6880us  3.0720us  vector_add(float*, float*, float*, int)\n",
            "                    3.32%  9.5680us         2  4.7840us  4.6400us  4.9280us  [CUDA memcpy HtoD]\n",
            "                    1.74%  5.0240us         1  5.0240us  5.0240us  5.0240us  [CUDA memcpy DtoH]\n",
            "      API calls:   99.28%  177.51ms         3  59.169ms  3.0770us  177.50ms  cudaMalloc\n",
            "                    0.27%  486.52us       100  4.8650us  3.4350us  28.910us  cudaLaunchKernel\n",
            "                    0.20%  366.26us         1  366.26us  366.26us  366.26us  cuDeviceTotalMem\n",
            "                    0.09%  162.01us       101  1.6040us     137ns  65.314us  cuDeviceGetAttribute\n",
            "                    0.08%  137.57us         3  45.855us  4.3990us  122.37us  cudaFree\n",
            "                    0.06%  102.92us         3  34.307us  24.556us  47.219us  cudaMemcpy\n",
            "                    0.01%  24.120us         1  24.120us  24.120us  24.120us  cuDeviceGetName\n",
            "                    0.00%  4.4430us         1  4.4430us  4.4430us  4.4430us  cuDeviceGetPCIBusId\n",
            "                    0.00%  1.8130us         3     604ns     218ns  1.1550us  cuDeviceGetCount\n",
            "                    0.00%  1.1100us         2     555ns     198ns     912ns  cuDeviceGet\n",
            "                    0.00%     300ns         1     300ns     300ns     300ns  cuDeviceGetUuid\n",
            "The Block size is 128.\n",
            "==187== NVPROF is profiling process 187, command: ./verctor_add_multi_blocks_thread 2\n",
            "out[0] = 3.140000\n",
            "PASSED\n",
            "==187== Profiling application: ./verctor_add_multi_blocks_thread 2\n",
            "==187== Profiling result:\n",
            "            Type  Time(%)      Time     Calls       Avg       Min       Max  Name\n",
            " GPU activities:   94.45%  251.05us       100  2.5100us  2.4640us  2.8800us  vector_add(float*, float*, float*, int)\n",
            "                    3.65%  9.6960us         2  4.8480us  4.6720us  5.0240us  [CUDA memcpy HtoD]\n",
            "                    1.90%  5.0560us         1  5.0560us  5.0560us  5.0560us  [CUDA memcpy DtoH]\n",
            "      API calls:   99.34%  180.00ms         3  60.002ms  2.7890us  180.00ms  cudaMalloc\n",
            "                    0.24%  429.38us       100  4.2930us  3.3800us  26.703us  cudaLaunchKernel\n",
            "                    0.20%  357.20us         1  357.20us  357.20us  357.20us  cuDeviceTotalMem\n",
            "                    0.08%  140.11us       101  1.3870us     141ns  59.152us  cuDeviceGetAttribute\n",
            "                    0.07%  121.41us         3  40.470us  24.773us  70.702us  cudaMemcpy\n",
            "                    0.06%  115.47us         3  38.490us  4.5820us  98.706us  cudaFree\n",
            "                    0.02%  29.831us         1  29.831us  29.831us  29.831us  cuDeviceGetName\n",
            "                    0.00%  6.1680us         1  6.1680us  6.1680us  6.1680us  cuDeviceGetPCIBusId\n",
            "                    0.00%  1.7640us         2     882ns     275ns  1.4890us  cuDeviceGet\n",
            "                    0.00%  1.4760us         3     492ns     208ns     888ns  cuDeviceGetCount\n",
            "                    0.00%     256ns         1     256ns     256ns     256ns  cuDeviceGetUuid\n",
            "The Block size is 256.\n",
            "==198== NVPROF is profiling process 198, command: ./verctor_add_multi_blocks_thread 3\n",
            "out[0] = 3.140000\n",
            "PASSED\n",
            "==198== Profiling application: ./verctor_add_multi_blocks_thread 3\n",
            "==198== Profiling result:\n",
            "            Type  Time(%)      Time     Calls       Avg       Min       Max  Name\n",
            " GPU activities:   94.40%  246.92us       100  2.4690us  2.4320us  2.8160us  vector_add(float*, float*, float*, int)\n",
            "                    3.67%  9.6000us         2  4.8000us  4.6400us  4.9600us  [CUDA memcpy HtoD]\n",
            "                    1.93%  5.0560us         1  5.0560us  5.0560us  5.0560us  [CUDA memcpy DtoH]\n",
            "      API calls:   99.34%  178.61ms         3  59.537ms  3.3080us  178.60ms  cudaMalloc\n",
            "                    0.24%  439.19us       100  4.3910us  3.3750us  32.020us  cudaLaunchKernel\n",
            "                    0.20%  353.33us         1  353.33us  353.33us  353.33us  cuDeviceTotalMem\n",
            "                    0.08%  138.06us       101  1.3660us     134ns  58.617us  cuDeviceGetAttribute\n",
            "                    0.06%  114.41us         3  38.136us  4.2640us  100.60us  cudaFree\n",
            "                    0.06%  104.06us         3  34.685us  26.218us  44.970us  cudaMemcpy\n",
            "                    0.02%  37.664us         1  37.664us  37.664us  37.664us  cuDeviceGetName\n",
            "                    0.00%  4.8210us         1  4.8210us  4.8210us  4.8210us  cuDeviceGetPCIBusId\n",
            "                    0.00%  1.7230us         3     574ns     212ns  1.1040us  cuDeviceGetCount\n",
            "                    0.00%  1.3420us         2     671ns     301ns  1.0410us  cuDeviceGet\n",
            "                    0.00%     286ns         1     286ns     286ns     286ns  cuDeviceGetUuid\n"
          ],
          "name": "stdout"
        }
      ]
    }
  ]
}
